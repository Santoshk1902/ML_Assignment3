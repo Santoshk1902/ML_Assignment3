{
 "cells": [
  {
   "cell_type": "markdown",
   "metadata": {},
   "source": [
    "Task 1: \n",
    "1. Write a function to compute 5/0 and use try/except to catch the exceptions. \n",
    " \n",
    " "
   ]
  },
  {
   "cell_type": "code",
   "execution_count": 1,
   "metadata": {},
   "outputs": [
    {
     "name": "stdout",
     "output_type": "stream",
     "text": [
      " OMG ZeroDivisionError exception thrown -- >>\n",
      " In finally block -- >>\n"
     ]
    }
   ],
   "source": [
    "def giveExceptionTask1Asssignment3(i):\n",
    "    try: \n",
    "        l = int(i) / 0\n",
    "    except IOError:\n",
    "        print(\" OMG IOError exception thrown -- >>\")\n",
    "    except AttributeError:\n",
    "        print(\" OMG AttributeError exception thrown -- >>\")\n",
    "    except ZeroDivisionError:\n",
    "        print(\" OMG ZeroDivisionError exception thrown -- >>\")\n",
    "    except:\n",
    "        print(\"OMG exception thrown -- >>\")\n",
    "    finally:\n",
    "        print(\" In finally block -- >>\")\n",
    "        \n",
    "giveExceptionTask1Asssignment3(\"5\")"
   ]
  },
  {
   "cell_type": "markdown",
   "metadata": {},
   "source": [
    "2. Implement a Python program to generate all sentences where subject is in [\"Americans\", \"Indians\"] and verb is in [\"Play\", \"watch\"] and the object is in [\"Baseball\",\"cricket\"]. "
   ]
  },
  {
   "cell_type": "code",
   "execution_count": 2,
   "metadata": {},
   "outputs": [
    {
     "name": "stdout",
     "output_type": "stream",
     "text": [
      "Americans play Baseball.\n",
      "Americans play Cricket.\n",
      "Americans watch Baseball.\n",
      "Americans watch Cricket.\n",
      "Indians play Baseball.\n",
      "Indians play Cricket.\n",
      "Indians watch Baseball.\n",
      "Indians watch Cricket.\n"
     ]
    }
   ],
   "source": [
    "subjects=[\"Americans\",\"Indians\"] \n",
    "verbs=[\"play\",\"watch\"] \n",
    "objects=[\"Baseball\",\"Cricket\"] \n",
    "\n",
    "output_list = [(sub+\" \"+ver+\" \"+obj+\".\") for sub in subjects for ver in verbs for obj in objects]\n",
    "\n",
    "for allobject in output_list:\n",
    "    print(allobject)"
   ]
  },
  {
   "cell_type": "code",
   "execution_count": 3,
   "metadata": {},
   "outputs": [
    {
     "name": "stdout",
     "output_type": "stream",
     "text": [
      "Americans play Baseball.\n",
      "Americans play Cricket.\n",
      "Americans watch Baseball.\n",
      "Americans watch Cricket.\n",
      "Indians play Baseball.\n",
      "Indians play Cricket.\n",
      "Indians watch Baseball.\n",
      "Indians watch Cricket.\n"
     ]
    }
   ],
   "source": [
    "def task2Assigment3():\n",
    "    subjects=[\"Americans\",\"Indians\"] \n",
    "    verbs=[\"play\",\"watch\"] \n",
    "    objects=[\"Baseball\",\"Cricket\"] \n",
    "\n",
    "    output_list = [(sub+\" \"+ver+\" \"+obj+\".\") for sub in subjects for ver in verbs for obj in objects]\n",
    "    for allobject in output_list:\n",
    "        print(allobject)\n",
    "\n",
    "task2Assigment3()"
   ]
  },
  {
   "cell_type": "markdown",
   "metadata": {},
   "source": [
    "Task 2:  \n",
    "1.  \n",
    " \n",
    "Write a function so that the columns of the output matrix are powers of the input vector.  \n",
    "The order of the powers is determined by the increasing boolean argument. Specifically, when increasing is False, the i-th output column is the input vector raised element-wise to the power of N - i - 1."
   ]
  },
  {
   "cell_type": "code",
   "execution_count": 4,
   "metadata": {},
   "outputs": [
    {
     "data": {
      "text/plain": [
       "array([[ 1,  1,  1,  1],\n",
       "       [ 8,  4,  2,  1],\n",
       "       [27,  9,  3,  1],\n",
       "       [64, 16,  4,  1]], dtype=int32)"
      ]
     },
     "execution_count": 4,
     "metadata": {},
     "output_type": "execute_result"
    }
   ],
   "source": [
    "import numpy as np\n",
    "x = np.array([1,2,3,4])\n",
    "N = 4\n",
    "np.vander(x,N, increasing = True)\n",
    "np.column_stack([x**(N-i-1) for i in range(N)])"
   ]
  }
 ],
 "metadata": {
  "kernelspec": {
   "display_name": "Python 3",
   "language": "python",
   "name": "python3"
  },
  "language_info": {
   "codemirror_mode": {
    "name": "ipython",
    "version": 3
   },
   "file_extension": ".py",
   "mimetype": "text/x-python",
   "name": "python",
   "nbconvert_exporter": "python",
   "pygments_lexer": "ipython3",
   "version": "3.7.3"
  }
 },
 "nbformat": 4,
 "nbformat_minor": 2
}
